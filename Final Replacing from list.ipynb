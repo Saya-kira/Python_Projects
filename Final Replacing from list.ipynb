{
 "cells": [
  {
   "cell_type": "code",
   "execution_count": 13,
   "metadata": {},
   "outputs": [],
   "source": [
    "########### READ ME ########\n",
    "#\n",
    "#\n",
    "#\n",
    "## Just a simple prog that takes a list and\n",
    "## asks you which position from the list you'd like to modify\n",
    "## and asks you what you want to replace it with.\n",
    "## Returns you the new list.\n",
    "#\n",
    "#\n",
    "#\n",
    "## Unfortunately, it doesn't ask if you'd like to save an int as int.\n",
    "## Automatically saves as str."
   ]
  },
  {
   "cell_type": "code",
   "execution_count": 4,
   "metadata": {},
   "outputs": [],
   "source": [
    "game_list = [0,1,2]"
   ]
  },
  {
   "cell_type": "code",
   "execution_count": 15,
   "metadata": {},
   "outputs": [
    {
     "name": "stdout",
     "output_type": "stream",
     "text": [
      "Here is the current list:  [0, 1, 2]\n",
      "Choose a position to modify (it should be 0,1 or 2): 2\n",
      "Type a string to replace at position: tralala\n",
      "Here is the current list:  [0, 1, 'tralala']\n",
      "Keep playing? Y or N only: N\n"
     ]
    }
   ],
   "source": [
    "def display_game(game_list):\n",
    "    print(\"Here is the current list: \",game_list)\n",
    "    return\n",
    "\n",
    "#########################################################################################################\n",
    "\n",
    "\n",
    "def position_choice():\n",
    "    choice = \"wrong\"\n",
    "    acceptable_positions = [\"0\",\"1\",\"2\"]\n",
    "    \n",
    "    while choice not in acceptable_positions:\n",
    "        \n",
    "        choice = input(\"Choose a position to modify (it should be 0,1 or 2): \")\n",
    "        \n",
    "        if choice not in acceptable_positions:\n",
    "            print(\"Invalid choice! \")\n",
    "        #this ensures that the input is correct, because\n",
    "        #if it isn't, the while loop will keep going and going.\n",
    "        #this if part is only to let the user know what's up.\n",
    "        \n",
    "    return int(choice)\n",
    "\n",
    "#########################################################################################################\n",
    "\n",
    "\n",
    "def replacement_choice(game_list, position):\n",
    "    \n",
    "    user_replacement = input(\"Type a string to replace at position: \")\n",
    "    \n",
    "    game_list[position] = user_replacement\n",
    "    \n",
    "    return game_list\n",
    "\n",
    "#########################################################################################################\n",
    "\n",
    "def gameon_choice():\n",
    "    choice =\"wrong\"\n",
    "    acceptable_answers = [\"Y\",\"N\"]\n",
    "    while choice not in acceptable_answers:\n",
    "        choice = input(\"Keep playing? Y or N only: \")\n",
    "        \n",
    "        if choice not in acceptable_answers:\n",
    "            print(\"Only reply with Y or N: \")\n",
    "            \n",
    "    if choice == \"Y\":\n",
    "        return True\n",
    "    else:\n",
    "        return False\n",
    "    \n",
    "#########################################################################################################\n",
    "\n",
    "gameon = True\n",
    "game_list = [0,1,2]\n",
    "\n",
    "while gameon: #I don't need to give condition gameon==True \n",
    "              #cause while loop automatically accepts that.\n",
    "    display_game(game_list)\n",
    "    position = position_choice()\n",
    "    game_list = replacement_choice(game_list, position)\n",
    "    display_game(game_list)\n",
    "    gameon = gameon_choice()\n"
   ]
  },
  {
   "cell_type": "code",
   "execution_count": null,
   "metadata": {},
   "outputs": [],
   "source": []
  }
 ],
 "metadata": {
  "kernelspec": {
   "display_name": "Python 3",
   "language": "python",
   "name": "python3"
  },
  "language_info": {
   "codemirror_mode": {
    "name": "ipython",
    "version": 3
   },
   "file_extension": ".py",
   "mimetype": "text/x-python",
   "name": "python",
   "nbconvert_exporter": "python",
   "pygments_lexer": "ipython3",
   "version": "3.8.3"
  }
 },
 "nbformat": 4,
 "nbformat_minor": 2
}
