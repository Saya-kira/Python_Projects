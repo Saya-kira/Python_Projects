{
 "cells": [
  {
   "cell_type": "code",
   "execution_count": 1,
   "metadata": {},
   "outputs": [],
   "source": [
    "def vigenere(message, key):\n",
    "##NOTES :\n",
    "##Firstly, this code is ALSO used to decode a message! See notes in PART 3\n",
    "##Secondly, like my Cesar code, I wasn't able to do the 3 steps seperately so\n",
    "##I seperated the cases into : 1) normal lowercase characters\n",
    "##                          2) special characters\n",
    "##\n",
    "##In each case, in one go, I :  1) turned each letter into its value\n",
    "##                              2) made the modification of that value by\n",
    "##                              adding the value from key_val mod(26)\n",
    "##                              (this step is only for normal charas)\n",
    "##                              3) translated the new values into the alphabet\n",
    "\n",
    "\n",
    "    import string\n",
    "    key_val = []\n",
    "    new_message = []\n",
    "    \n",
    "   \n",
    "    for i in range(len(message)+1):\n",
    "        index_in_key = i%len(key)\n",
    "        letter = key[index_in_key]\n",
    "        key_val.append(string.ascii_lowercase.index(letter))\n",
    "    \n",
    "    \n",
    "    i=0\n",
    "    for letter in message.lower():\n",
    "        if letter in string.ascii_lowercase:\n",
    "            new_val = (string.ascii_lowercase.index(letter)+key_val[i])%26\n",
    "            new_message.append(string.ascii_lowercase[new_val])\n",
    "            i = i+1\n",
    "        else:\n",
    "            new_message.append(letter)\n",
    "    \n",
    "    return \"\".join(new_message)\n",
    "\n",
    "\n",
    "\n"
   ]
  },
  {
   "cell_type": "code",
   "execution_count": null,
   "metadata": {},
   "outputs": [],
   "source": []
  }
 ],
 "metadata": {
  "kernelspec": {
   "display_name": "Python 3",
   "language": "python",
   "name": "python3"
  },
  "language_info": {
   "codemirror_mode": {
    "name": "ipython",
    "version": 3
   },
   "file_extension": ".py",
   "mimetype": "text/x-python",
   "name": "python",
   "nbconvert_exporter": "python",
   "pygments_lexer": "ipython3",
   "version": "3.8.3"
  }
 },
 "nbformat": 4,
 "nbformat_minor": 4
}
