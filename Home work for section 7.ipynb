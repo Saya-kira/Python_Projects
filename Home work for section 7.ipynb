{
 "cells": [
  {
   "cell_type": "code",
   "execution_count": 15,
   "metadata": {},
   "outputs": [
    {
     "name": "stdout",
     "output_type": "stream",
     "text": [
      "The assigned values are not int!\n"
     ]
    }
   ],
   "source": [
    "# PROBLEM 1\n",
    "try:\n",
    "    for i in [\"a\",\"b\",\"c\"]:\n",
    "        print(i**2)\n",
    "except TypeError:\n",
    "    print(\"The assigned values are not int!\")\n"
   ]
  },
  {
   "cell_type": "code",
   "execution_count": null,
   "metadata": {},
   "outputs": [],
   "source": []
  },
  {
   "cell_type": "code",
   "execution_count": null,
   "metadata": {},
   "outputs": [],
   "source": []
  },
  {
   "cell_type": "code",
   "execution_count": 16,
   "metadata": {},
   "outputs": [
    {
     "name": "stdout",
     "output_type": "stream",
     "text": [
      "Yikes! Looks like you're trying to divide by zero!\n",
      "All done!\n"
     ]
    }
   ],
   "source": [
    "# PROBLEM 2\n",
    "x=5\n",
    "y=0\n",
    "\n",
    "try:\n",
    "    z=x/y\n",
    "    print(z)\n",
    "except ZeroDivisionError:\n",
    "    print(\"Yikes! Looks like you're trying to divide by zero!\")\n",
    "finally:\n",
    "    print(\"All done!\")"
   ]
  },
  {
   "cell_type": "code",
   "execution_count": null,
   "metadata": {},
   "outputs": [],
   "source": []
  },
  {
   "cell_type": "code",
   "execution_count": null,
   "metadata": {},
   "outputs": [],
   "source": []
  },
  {
   "cell_type": "code",
   "execution_count": 3,
   "metadata": {},
   "outputs": [],
   "source": [
    "# PROBLEM 3\n",
    "def ask():\n",
    "    while True:\n",
    "        try:\n",
    "            val = int(input(\"Give a number to be squared: \"))\n",
    "        except:\n",
    "            print(\"An error occurred! Please try again! \\n\")\n",
    "            continue\n",
    "        else:\n",
    "            print(\"Thank you, your number squared is: \")\n",
    "            print(val**2)\n",
    "            break\n",
    "            "
   ]
  },
  {
   "cell_type": "code",
   "execution_count": 4,
   "metadata": {},
   "outputs": [
    {
     "name": "stdout",
     "output_type": "stream",
     "text": [
      "Give a number to be squared: null\n",
      "An error occurred! Please try again! \n",
      "\n",
      "Give a number to be squared: 3\n",
      "Thank you, your number squared is: \n",
      "9\n"
     ]
    }
   ],
   "source": [
    "ask()"
   ]
  },
  {
   "cell_type": "code",
   "execution_count": null,
   "metadata": {},
   "outputs": [],
   "source": [
    "print(\"hello world\")"
   ]
  },
  {
   "cell_type": "code",
   "execution_count": null,
   "metadata": {},
   "outputs": [],
   "source": []
  }
 ],
 "metadata": {
  "kernelspec": {
   "display_name": "Python 3",
   "language": "python",
   "name": "python3"
  },
  "language_info": {
   "codemirror_mode": {
    "name": "ipython",
    "version": 3
   },
   "file_extension": ".py",
   "mimetype": "text/x-python",
   "name": "python",
   "nbconvert_exporter": "python",
   "pygments_lexer": "ipython3",
   "version": "3.8.3"
  }
 },
 "nbformat": 4,
 "nbformat_minor": 4
}
