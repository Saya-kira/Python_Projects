{
 "cells": [
  {
   "cell_type": "code",
   "execution_count": null,
   "metadata": {},
   "outputs": [
    {
     "name": "stdout",
     "output_type": "stream",
     "text": [
      "For the test run, the answer is  36\n",
      "What number am I thinking of between 1 and 100? 50\n",
      "WARMER!\n",
      "What number am I thinking of? 55\n",
      "COLDER!\n",
      "What number am I thinking of? 44\n",
      "WARMER!\n",
      "What number am I thinking of? 33\n",
      "WARMER!\n",
      "What number am I thinking of? 32\n",
      "COLDER!\n",
      "What number am I thinking of? 40\n"
     ]
    }
   ],
   "source": [
    "######### READ ME ###########\n",
    "#\n",
    "#\n",
    "#\n",
    "## Guess the number the computer is thinking of.\n",
    "## If your new answer is closer to the correct value,\n",
    "## you will be told \"WARMER\".\n",
    "## If your new answer is further than the previous answer to the correct value,\n",
    "## you will be told \"COLDER\"\n",
    "#\n",
    "## If your answer is withing +/- from the correct value,\n",
    "## you will be given the corresponding clue.\n",
    "#\n",
    "## This program is the 2018 vers and does not check for user input type.\n",
    "#\n",
    "#\n",
    "#\n",
    "#\n",
    "\n",
    "from random import randint\n",
    "answer = randint(1,100)\n",
    "print(\"For the test run, the answer is \",answer)\n",
    "\n",
    "counter = 1\n",
    "your_guesses = [0]\n",
    "\n",
    "your_guesses.append(int(input(\"What number am I thinking of between 1 and 100? \")))\n",
    "\n",
    "while answer != your_guesses[counter] :\n",
    "    \n",
    "    \n",
    "    if your_guesses[counter]<1 or your_guesses[counter]>100:\n",
    "        print(\"OUT OF BOUNDS!\")\n",
    "        your_guesses.append(int(input(\"Choose a number between 1 and 100 only : \")))\n",
    "        counter +=1\n",
    "        \n",
    "    elif counter ==1 and your_guesses[counter] in list(range(answer-10,answer)):\n",
    "        print(\"COLD. Go up a bit!\")\n",
    "        your_guesses.append(int(input(\"What number am I thinking of ? \")))\n",
    "        counter +=1\n",
    "        \n",
    "    elif counter ==1 and your_guesses[counter] in list(range(answer+1,answer+11)):\n",
    "        print(\"WARM. Go down a bit!\")\n",
    "        your_guesses.append(int(input(\"What number am I thinking of ? \")))\n",
    "        counter +=1\n",
    "        \n",
    "    elif your_guesses[counter] in your_guesses[:counter]:\n",
    "        print(\"Hey, come on! you've already said that.\")\n",
    "        your_guesses.append(int(input(\"Try a different number : \")))\n",
    "        counter +=1\n",
    "        \n",
    "    elif abs(your_guesses[counter]-answer)<abs(your_guesses[counter-1]-answer):\n",
    "        print(\"WARMER!\")\n",
    "        your_guesses.append(int(input(\"What number am I thinking of? \")))\n",
    "        counter +=1\n",
    "\n",
    "    elif abs(your_guesses[counter]-answer)>abs(your_guesses[counter-1]-answer):\n",
    "        print(\"COLDER!\")\n",
    "        your_guesses.append(int(input(\"What number am I thinking of? \")))\n",
    "        counter +=1\n",
    "\n",
    "        \n",
    "        \n",
    "print(f\"CORRECT! You found my number! It is {answer}! And it only took you {counter} guesses.\")\n",
    "    "
   ]
  },
  {
   "cell_type": "code",
   "execution_count": null,
   "metadata": {},
   "outputs": [],
   "source": []
  },
  {
   "cell_type": "code",
   "execution_count": null,
   "metadata": {},
   "outputs": [],
   "source": []
  }
 ],
 "metadata": {
  "kernelspec": {
   "display_name": "Python 3",
   "language": "python",
   "name": "python3"
  },
  "language_info": {
   "codemirror_mode": {
    "name": "ipython",
    "version": 3
   },
   "file_extension": ".py",
   "mimetype": "text/x-python",
   "name": "python",
   "nbconvert_exporter": "python",
   "pygments_lexer": "ipython3",
   "version": "3.8.3"
  }
 },
 "nbformat": 4,
 "nbformat_minor": 2
}
