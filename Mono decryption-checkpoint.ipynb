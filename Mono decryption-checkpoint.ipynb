{
 "cells": [
  {
   "cell_type": "code",
   "execution_count": 1,
   "metadata": {},
   "outputs": [],
   "source": [
    "def mono_decrypt(encoded_message,sentence):\n",
    "##NOTES:\n",
    "##Firstly, as you have noticed, I am assuming that the user will give me the sentence\n",
    "##that he used to encode the message. This sounds like cheating though.\n",
    "##Not sure if this is what you're asking. Then again, if we had to find out \n",
    "##which key the user used it would be more difficult to code.\n",
    "##Secondly, I also assume that the encoded message is given in lowercase (also containing special\n",
    "##characters)\n",
    "\n",
    "    \n",
    "    import string\n",
    "    key = []\n",
    "    original_message = []\n",
    "    \n",
    "    \n",
    "    ##PART 1 : GENERATING THE REAL KEY (carbon copy of first code)\n",
    "    for letter in sentence.lower(): ##this loop first collects the letters from the sentance\n",
    "        if letter not in key:\n",
    "            key.append(letter)\n",
    "    \n",
    "    for alphabet in string.ascii_lowercase : ##this loop completes the alphabet\n",
    "        if alphabet not in key:\n",
    "            key.append(alphabet)\n",
    "    \n",
    "   \n",
    "    ##PART 2 : USING key WE CAN FIND OUT WHAT THE ORIGINAL MESSAGE WAS\n",
    "    for letter in encoded_message :\n",
    "        if letter.lower() in string.ascii_lowercase :\n",
    "              original_message.append(string.ascii_lowercase[key.index(letter.lower())])\n",
    "        \n",
    "        else :\n",
    "            original_message.append(letter)\n",
    "    \n",
    "    return \"\".join(original_message)\n"
   ]
  },
  {
   "cell_type": "code",
   "execution_count": null,
   "metadata": {},
   "outputs": [],
   "source": []
  }
 ],
 "metadata": {
  "kernelspec": {
   "display_name": "Python 3",
   "language": "python",
   "name": "python3"
  },
  "language_info": {
   "codemirror_mode": {
    "name": "ipython",
    "version": 3
   },
   "file_extension": ".py",
   "mimetype": "text/x-python",
   "name": "python",
   "nbconvert_exporter": "python",
   "pygments_lexer": "ipython3",
   "version": "3.8.3"
  }
 },
 "nbformat": 4,
 "nbformat_minor": 4
}
