{
 "cells": [
  {
   "cell_type": "code",
   "execution_count": 1,
   "metadata": {},
   "outputs": [],
   "source": [
    "def mono(message,sentence):\n",
    "##NOTES:\n",
    "##I didn't take into consideration if the sentance used to generate the key contains special characters \n",
    "##because it wasn't specified in the instructions if the key can take in special chara.\n",
    "##The special characters will only exist in the message that we will not modify when we're\n",
    "##creating the new message. This is why in each parts there are always two sections. See below.\n",
    "    \n",
    "    \n",
    "    import string\n",
    "    key = [] ##this will contain the real key that is generated from the sentence but as a list.\n",
    "    new_message_list = []\n",
    "    \n",
    "    \n",
    "    ##PART 1 : GENERATING THE REAL KEY\n",
    "    for letter in sentence.lower(): ##this loop first collects the letters from the sentence\n",
    "        if letter not in key:\n",
    "            key.append(letter)\n",
    "    \n",
    "    for alphabet in string.ascii_lowercase : ##this loop completes the alphabet\n",
    "        if alphabet not in key:\n",
    "            key.append(alphabet)\n",
    "            \n",
    "    \n",
    "    ##PART 2 : WE NOW TRANSFORM THE ORIGINAL MESSAGE INTO A NEW ONE\n",
    "    for letter in message.lower() :\n",
    "        if letter in string.ascii_lowercase :\n",
    "            ##For this part I need to first look at where the letter is placed in the alphabet list\n",
    "            ##secondly, I use that index to find the letter corresponding at the same place in the key\n",
    "            ##then I add the letter from the key to the new message. \n",
    "            ##Here's what it looks like using the example of Serie 1, Exo 2\n",
    "                    \n",
    "            ##Alphabet list :  a b c d e f g h i j k l m n o p q r s t u v w x y z\n",
    "            ##key :            s u b t i o n m a l p h e q c d f g j k r v w x y z \n",
    "            \n",
    "            ##Let's encode :   C R Y P T O G R A P H I E C L A S S I Q U E\n",
    "            \n",
    "            ## c = 2nd in alphabet. But the 2nd letter in key is B\n",
    "            ## r = 17th in alphabet. But the 17th letter in key is G\n",
    "            ## y = 24th letter in alphabet. But the 24th letter in key is y.\n",
    "            ## ETC...thus we get the encoded message as given in Serie 1, Exo 2 :\n",
    "            \n",
    "            ##Encoded message:  B G Y D K C N G S D M A I B H S J J A F R I\n",
    "            \n",
    "            index_in_alphabet = string.ascii_lowercase.index(letter) \n",
    "            letter_in_key = key[index_in_alphabet]\n",
    "            new_message_list.append(letter_in_key) \n",
    "            ##Of course, I could have written these 3 lines into 1 line but it is easier this way.\n",
    "            ##Also, does this take up more \"memory space\" since I've created 2 new variables.\n",
    "            ##I don't know anything about memory when coding.\n",
    "        \n",
    "        else :\n",
    "            new_message_list.append(letter)\n",
    "    \n",
    "    return \"\".join(new_message_list)\n",
    "\n",
    "\n"
   ]
  },
  {
   "cell_type": "code",
   "execution_count": null,
   "metadata": {},
   "outputs": [],
   "source": []
  }
 ],
 "metadata": {
  "kernelspec": {
   "display_name": "Python 3",
   "language": "python",
   "name": "python3"
  },
  "language_info": {
   "codemirror_mode": {
    "name": "ipython",
    "version": 3
   },
   "file_extension": ".py",
   "mimetype": "text/x-python",
   "name": "python",
   "nbconvert_exporter": "python",
   "pygments_lexer": "ipython3",
   "version": "3.8.3"
  }
 },
 "nbformat": 4,
 "nbformat_minor": 4
}
