{
 "cells": [
  {
   "cell_type": "code",
   "execution_count": 1,
   "metadata": {},
   "outputs": [],
   "source": [
    "board = [\"#\",\" \",\" \",\" \",\" \",\" \",\" \",\" \",\" \",\" \"]"
   ]
  },
  {
   "cell_type": "code",
   "execution_count": 2,
   "metadata": {},
   "outputs": [],
   "source": [
    "#STEP 1\n",
    "\n",
    "def display_board(board):\n",
    "    \n",
    "    print(\"   |   |   \")\n",
    "    print(\" \"+board[1]+\" |\"+\" \"+board[2]+\" |\"+\" \"+board[3]+\" \")\n",
    "    print(\"   |   |   \")\n",
    "    print(\"-----------\")\n",
    "    print(\"   |   |   \")\n",
    "    print(\" \"+board[4]+\" |\"+\" \"+board[5]+\" |\"+\" \"+board[6]+\" \")\n",
    "    print(\"   |   |   \")\n",
    "    print(\"-----------\")\n",
    "    print(\"   |   |   \")\n",
    "    print(\" \"+board[7]+\" |\"+\" \"+board[8]+\" |\"+\" \"+board[9]+\" \")\n",
    "    print(\"   |   |   \")\n",
    "    \n",
    "    return"
   ]
  },
  {
   "cell_type": "code",
   "execution_count": 3,
   "metadata": {},
   "outputs": [],
   "source": [
    "#STEP 2\n",
    "\n",
    "def player_input():\n",
    "    \n",
    "    p1_mark = \"wrong\"\n",
    "    \n",
    "    #This part first asks which marker Player 1 wants to have.\n",
    "    while p1_mark not in [\"X\",\"O\"]:\n",
    "        \n",
    "        p1_mark = input(\"Player 1, please choose your marker, X or O: \")\n",
    "        \n",
    "    \n",
    "        if p1_mark not in [\"X\", \"O\"]:\n",
    "            print(\"I said, choose between X or O: \")\n",
    "        \n",
    "    return p1_mark"
   ]
  },
  {
   "cell_type": "code",
   "execution_count": 4,
   "metadata": {},
   "outputs": [],
   "source": [
    "#STEP 3\n",
    "\n",
    "def place_maker(board, marker, position):\n",
    "    \n",
    "    board[position] = marker\n",
    "    \n",
    "    display_board(board)\n",
    "    \n",
    "    return"
   ]
  },
  {
   "cell_type": "code",
   "execution_count": 5,
   "metadata": {},
   "outputs": [],
   "source": [
    "#STEP 4\n",
    "\n",
    "def win_check(board,mark):\n",
    "    \n",
    "    is_there_a_winner = False\n",
    "            \n",
    "    #Let's just do the manual checks omg. I hate doing this when loops exists.\n",
    "    \n",
    "    if board[1]==board[2]==board[3]==mark:\n",
    "        is_there_a_winner = True\n",
    "        print(\"We have a winner! \"+mark+\" is the winner!\")\n",
    "    elif board[1]==board[4]==board[7]==mark:\n",
    "        is_there_a_winner = True\n",
    "        print(\"We have a winner! \"+mark+\" is the winner!\")\n",
    "    elif board[1]==board[5]==board[9]==mark:\n",
    "        is_there_a_winner = True\n",
    "        print(\"We have a winner! \"+mark+\" is the winner!\")\n",
    "    elif board[2]==board[5]==board[8]==mark:\n",
    "        is_there_a_winner = True\n",
    "        print(\"We have a winner! \"+mark+\" is the winner!\")\n",
    "    elif board[3]==board[5]==board[7]==mark:\n",
    "        is_there_a_winner = True\n",
    "        print(\"We have a winner! \"+mark+\" is the winner!\")\n",
    "    elif board[3]==board[6]==board[9]==mark:\n",
    "        is_there_a_winner = True\n",
    "        print(\"We have a winner! \"+mark+\" is the winner!\")\n",
    "    elif board[4]==board[5]==board[6]==mark:\n",
    "        is_there_a_winner = True\n",
    "        print(\"We have a winner! \"+mark+\" is the winner!\")\n",
    "    elif board[7]==board[8]==board[9]==mark:\n",
    "        is_there_a_winner = True\n",
    "        print(\"We have a winner! \"+mark+\" is the winner!\")\n",
    "        \n",
    "    return is_there_a_winner"
   ]
  },
  {
   "cell_type": "code",
   "execution_count": 6,
   "metadata": {},
   "outputs": [],
   "source": [
    "#SKIPPED STEP 5 :randoming who starts first"
   ]
  },
  {
   "cell_type": "code",
   "execution_count": 7,
   "metadata": {},
   "outputs": [],
   "source": [
    "#STEP 6\n",
    "\n",
    "def position_check(board, position):\n",
    "    \n",
    "    return board[position]==\" \""
   ]
  },
  {
   "cell_type": "code",
   "execution_count": 8,
   "metadata": {},
   "outputs": [],
   "source": [
    "#STEP 7\n",
    "\n",
    "def full_board_check(board):\n",
    "    \n",
    "    return \" \" not in board"
   ]
  },
  {
   "cell_type": "code",
   "execution_count": 9,
   "metadata": {},
   "outputs": [],
   "source": [
    "def player_choice(board):\n",
    "    position = 0\n",
    "    \n",
    "    while position not in [1,2,3,4,5,6,7,8,9] or not position_check(board, position):\n",
    "        position = int(input('Choose your next position: (1-9) '))\n",
    "        \n",
    "    return position"
   ]
  },
  {
   "cell_type": "code",
   "execution_count": 10,
   "metadata": {},
   "outputs": [],
   "source": [
    "#STEP 9\n",
    "\n",
    "def replay():\n",
    "    \n",
    "    answer =\"wrong\"\n",
    "    play_again = False\n",
    "    \n",
    "    while answer not in [\"Y\",\"N\"]:\n",
    "    \n",
    "        answer = input(\"Do you want to play again? Y or N \")\n",
    "        \n",
    "        if answer not in [\"Y\",\"N\"]:\n",
    "            print(\"Just answer with Y or N please: \")\n",
    "    \n",
    "    if answer == \"Y\":\n",
    "        play_again = True\n",
    "    \n",
    "    return play_again\n"
   ]
  },
  {
   "cell_type": "code",
   "execution_count": 11,
   "metadata": {},
   "outputs": [
    {
     "data": {
      "text/plain": [
       "5"
      ]
     },
     "execution_count": 11,
     "metadata": {},
     "output_type": "execute_result"
    }
   ],
   "source": [
    "print(\"Welcome to Tic Tac Toe!\")\n",
    "\n",
    "def game():\n",
    "    from IPython.display import clear_output\n",
    "    \n",
    "    lets_play = True\n",
    "    board = [\"#\",\" \",\" \",\" \",\" \",\" \",\" \",\" \",\" \",\" \"]\n",
    "    marker_list = [\"X\",\"O\"]\n",
    "           \n",
    "   \n",
    "    marker = player_input()\n",
    "    counter = marker_list.index(marker) \n",
    "\n",
    "    \n",
    "    while lets_play :\n",
    "        \n",
    "        \n",
    "        display_board(board)\n",
    "        marker = marker_list[counter%2]\n",
    "        position = player_choice(board)\n",
    "        \n",
    "        place_maker(board,marker,position)\n",
    "        \n",
    "        if win_check(board,marker) == True or full_board_check(board) == True:\n",
    "            lets_play = False\n",
    "            \n",
    "        counter += 1\n",
    "        clear_output()\n",
    "        \n",
    "    #since we have a winner, we are now out of the while loop\n",
    "    #and now we get to ask if they want to play again.\n",
    "    \n",
    "    return counter\n",
    "\n",
    "game()\n"
   ]
  },
  {
   "cell_type": "code",
   "execution_count": null,
   "metadata": {},
   "outputs": [],
   "source": []
  }
 ],
 "metadata": {
  "kernelspec": {
   "display_name": "Python 3",
   "language": "python",
   "name": "python3"
  },
  "language_info": {
   "codemirror_mode": {
    "name": "ipython",
    "version": 3
   },
   "file_extension": ".py",
   "mimetype": "text/x-python",
   "name": "python",
   "nbconvert_exporter": "python",
   "pygments_lexer": "ipython3",
   "version": "3.8.3"
  }
 },
 "nbformat": 4,
 "nbformat_minor": 2
}
