{
 "cells": [
  {
   "cell_type": "code",
   "execution_count": 1,
   "metadata": {},
   "outputs": [],
   "source": [
    "###############READ ME#############\n",
    "#\n",
    "#\n",
    "#\n",
    "#\n",
    "# \n",
    "## Firstly, I originally wanted to do each step seperately \n",
    "## Those steps being : translate each letter of the message into its value\n",
    "## then doing new_value+key and finally translating back into the new letters.\n",
    "## This code worked fine until I had to add all printable characters...\n",
    "## I wasn't able to code this into 3 seperate steps as before because I wasn't able to seperate\n",
    "## the special characters from the lowercase alphabets (without the code being too long and messy)\n",
    "## That's why here, I had to do all 3 steps in one hit, by doing two cases : in lowercase or special chara.\n",
    "## Secondly, this code can be copy pasted to get the \"decrypting code\" see below.\n",
    "\n",
    "\n",
    "\n",
    "\n",
    "def cesar(message,key): \n",
    "    \n",
    "    \n",
    "    import string\n",
    "    new_message_list = [] ##this will contain the new message IN LETTERS but in a list format\n",
    "\n",
    "    \n",
    "    for letter in message.lower():\n",
    "        if letter in string.ascii_lowercase: ##This section concerns the letters in lowercase\n",
    "            new_val = (string.ascii_lowercase.index(letter)+key)%26 ##this is just a local variable\n",
    "            ##In the above line, we can change the + into a - to get the decrytion code.\n",
    "            new_message_list.append(string.ascii_lowercase[new_val])\n",
    "            \n",
    "        else : ##this section concerns the letters in special chara. \n",
    "            new_val = string.printable.index(letter) ##we're literally doing nothing to the special chara\n",
    "            new_message_list.append(string.printable[new_val]) ##keeping them at the same place as the ori\n",
    "                                                               ##ginal message\n",
    "        \n",
    "    \n",
    "    return \"\".join(new_message_list)"
   ]
  },
  {
   "cell_type": "code",
   "execution_count": 2,
   "metadata": {},
   "outputs": [],
   "source": [
    "cyphered = cesar(\"hello world\",5)"
   ]
  },
  {
   "cell_type": "code",
   "execution_count": 3,
   "metadata": {},
   "outputs": [
    {
     "data": {
      "text/plain": [
       "'mjqqt btwqi'"
      ]
     },
     "execution_count": 3,
     "metadata": {},
     "output_type": "execute_result"
    }
   ],
   "source": [
    "cyphered"
   ]
  },
  {
   "cell_type": "code",
   "execution_count": 4,
   "metadata": {},
   "outputs": [],
   "source": [
    "## Decyphering it is easy.\n",
    "## Just substract the key from each letter.\n",
    "\n",
    "\n",
    "def cesar_decrypt(message,key): \n",
    "    \n",
    "    \n",
    "    import string\n",
    "    new_message_list = [] ##this will contain the new message IN LETTERS but in a list format\n",
    "\n",
    "    \n",
    "    for letter in message.lower():\n",
    "        if letter in string.ascii_lowercase: ##This section concerns the letters in lowercase\n",
    "            new_val = (string.ascii_lowercase.index(letter)-key)%26 ##this is just a local variable\n",
    "            ##In the above line, we can change the + into a - to get the decrytion code.\n",
    "            new_message_list.append(string.ascii_lowercase[new_val])\n",
    "            \n",
    "        else : ##this section concerns the letters in special chara. \n",
    "            new_val = string.printable.index(letter) ##we're literally doing nothing to the special chara\n",
    "            new_message_list.append(string.printable[new_val]) ##keeping them at the same place as the ori\n",
    "                                                               ##ginal message\n",
    "        \n",
    "    \n",
    "    return \"\".join(new_message_list)"
   ]
  },
  {
   "cell_type": "code",
   "execution_count": 5,
   "metadata": {},
   "outputs": [],
   "source": [
    "answer = cesar_decrypt(cyphered,5)"
   ]
  },
  {
   "cell_type": "code",
   "execution_count": 6,
   "metadata": {},
   "outputs": [
    {
     "data": {
      "text/plain": [
       "'hello world'"
      ]
     },
     "execution_count": 6,
     "metadata": {},
     "output_type": "execute_result"
    }
   ],
   "source": [
    "answer"
   ]
  },
  {
   "cell_type": "code",
   "execution_count": null,
   "metadata": {},
   "outputs": [],
   "source": []
  }
 ],
 "metadata": {
  "kernelspec": {
   "display_name": "Python 3",
   "language": "python",
   "name": "python3"
  },
  "language_info": {
   "codemirror_mode": {
    "name": "ipython",
    "version": 3
   },
   "file_extension": ".py",
   "mimetype": "text/x-python",
   "name": "python",
   "nbconvert_exporter": "python",
   "pygments_lexer": "ipython3",
   "version": "3.8.3"
  }
 },
 "nbformat": 4,
 "nbformat_minor": 4
}
